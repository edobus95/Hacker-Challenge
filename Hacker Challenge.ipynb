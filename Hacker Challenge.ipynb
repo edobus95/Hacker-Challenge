{
 "cells": [
  {
   "cell_type": "markdown",
   "metadata": {},
   "source": [
    "# Hacker Challenge 2020\n",
    "Write a 🐍 program that logs on the Hub and downloads module files."
   ]
  },
  {
   "cell_type": "markdown",
   "metadata": {},
   "source": [
    "## Imports"
   ]
  },
  {
   "cell_type": "code",
   "execution_count": null,
   "metadata": {
    "scrolled": true
   },
   "outputs": [],
   "source": [
    "import subprocess\n",
    "import sys\n",
    "import os\n",
    "from zipfile import ZipFile\n",
    "import easygui as eg\n",
    "from selenium import webdriver\n",
    "from selenium.webdriver.common.keys import Keys # Keys in the keyboard\n",
    "from selenium.webdriver.common.by import By\n",
    "from selenium.webdriver.chrome.options import Options\n",
    "import time\n",
    "from sys import platform\n",
    "\n",
    "def install(package):\n",
    "            subprocess.check_call([sys.executable, \"-m\", \"pip\", \"install\", package])"
   ]
  },
  {
   "cell_type": "markdown",
   "metadata": {},
   "source": [
    "## User Inputs"
   ]
  },
  {
   "cell_type": "code",
   "execution_count": null,
   "metadata": {},
   "outputs": [],
   "source": [
    "user_username = input(\"Insert Username (e.g. af2230):    \") # Get username\n",
    "user_password = input(\"Insert Password:    \") # Get password\n",
    "        \n",
    "# Install the required packages (Specified in the requirements.txt file)\n",
    "with open(\"requirements.txt\") as f:\n",
    "    for pk in f:\n",
    "        install(pk)\n",
    "\n",
    "\n",
    "# Specify donwnload folder --> The files will be downloaded and unzipped in a folder called \"Courses_Downloads\" that will be created where is script is located\n",
    "download_folder_path = os.getcwd()\n",
    "download_folder_path = os.path.join(download_folder_path,\"Courses_Downloads\")\n",
    "\n",
    "\n",
    "# Parameters for the GUI\n",
    "question = \"What courses do you want to download?  The files will be downloaded in a folder called  'Courses_Downloads' stored in the same folder where this script is stored\"\n",
    "title = \"Select courses\"\n",
    "courses = [\"Math\", \"FDT\", \"DSA\"] # Avaiable courses\n",
    "\n",
    "\n",
    "choice = eg.multchoicebox(question , title, courses) # pop-up of multiple choice questionaire\n",
    "courses = choice\n",
    "\n"
   ]
  },
  {
   "cell_type": "markdown",
   "metadata": {},
   "source": [
    "## Links to the modules file folder"
   ]
  },
  {
   "cell_type": "code",
   "execution_count": null,
   "metadata": {},
   "outputs": [],
   "source": [
    "# Paths to the course File folders\n",
    "# These are the paths to the embedded dropbox Iframe\n",
    "paths_to_file = {\"Math\": \"https://www.dropbox.com/dropins/embed?app_key=61vxbrvh0awtwwr&origin=https%3A%2F%2Fiframed.insendi.com&link=https%3A%2F%2Fwww.dropbox.com%2Fsh%2Ft14inxc5bfcwaqu%2FAADiq3JtxF07oJ3ymOe94nH2a%3Fdl%3D0&iframe=false\",\n",
    "                 \"FDT\":\"https://www.dropbox.com/dropins/embed?app_key=61vxbrvh0awtwwr&origin=https%3A%2F%2Fiframed.insendi.com&link=https%3A%2F%2Fwww.dropbox.com%2Fsh%2F7w7a76i95jtl3ca%2FAADl7D_Tn6xUZ97KCdzmxl-sa%3Fdl%3D0&iframe=false\",\n",
    "                 \"DSA\":\"https://www.dropbox.com/dropins/embed?app_key=61vxbrvh0awtwwr&origin=https%3A%2F%2Fiframed.insendi.com&link=https%3A%2F%2Fwww.dropbox.com%2Fsh%2Fwji42tbpgzpfzir%2FAADnJYBolgVuVDYvJ4nI2wQla%3Fdl%3D0&iframe=false\"}"
   ]
  },
  {
   "cell_type": "markdown",
   "metadata": {},
   "source": [
    "### Opening a Chrome Browser"
   ]
  },
  {
   "cell_type": "code",
   "execution_count": null,
   "metadata": {},
   "outputs": [],
   "source": [
    "# Checking what platform is being used so to make sure that we are using the right version of chome (I used the chrome 85 webdriver)\n",
    "if platform == \"linux\" or platform == \"linux2\":\n",
    "    pass\n",
    "if platform == \"darwin\":\n",
    "    chromedriver = os.getcwd()\n",
    "    chromedriver = os.path.join(chromedriver,\"chromedriver\") # Mac\n",
    "if platform == \"win32\":\n",
    "    chromedriver = os.getcwd()\n",
    "    chromedriver = os.path.join(chromedriver,\"win_chromedriver.exe\") # Windows\n",
    "\n",
    "\n",
    "\n",
    "chrome_options = Options() \n",
    "\n",
    "# Turn off chrome warning for multiple downloads\n",
    "prefs = {'profile.default_content_setting_values.automatic_downloads': 1,\"download.default_directory\" : download_folder_path}\n",
    "chrome_options.add_experimental_option(\"prefs\", prefs)\n",
    "\n",
    "\n",
    "driver = webdriver.Chrome(chromedriver,options=chrome_options) # Opening the chrome browser"
   ]
  },
  {
   "cell_type": "markdown",
   "metadata": {},
   "source": [
    "### Connecting to the Hub trough the Imperial Login "
   ]
  },
  {
   "cell_type": "code",
   "execution_count": null,
   "metadata": {},
   "outputs": [],
   "source": [
    "# Connecting to the login form\n",
    "driver.get('https://imperial.insendi.com/auth/saml/authenticate/imp?returnPath=/')"
   ]
  },
  {
   "cell_type": "markdown",
   "metadata": {},
   "source": [
    "### Entering the Username and Password"
   ]
  },
  {
   "cell_type": "code",
   "execution_count": null,
   "metadata": {},
   "outputs": [],
   "source": [
    "elem_username = driver.find_element_by_name(\"j_username\") # find the login text-box\n",
    "elem_username.clear() # Clear text in the login text-box\n",
    "elem_username.send_keys(user_username) # Typing the username into the login textbox\n",
    "\n",
    "elem_password = driver.find_element_by_name(\"j_password\")\n",
    "elem_password.clear()\n",
    "elem_password.send_keys(user_password)\n",
    "\n",
    "\n",
    "elem_password.send_keys(Keys.RETURN) # Hitting the return key"
   ]
  },
  {
   "cell_type": "markdown",
   "metadata": {},
   "source": [
    "### Connecting to the Dropbox folder and downloading the files"
   ]
  },
  {
   "cell_type": "code",
   "execution_count": null,
   "metadata": {},
   "outputs": [],
   "source": [
    "# For each course specified by the user:\n",
    "\n",
    "for course in courses:\n",
    "    dropdox_Path = paths_to_file[course] # Get the path to the dropbox iframe (Specified in the paths_to_file dictionary)\n",
    "    driver.get(dropdox_Path) # Connect to the dropbox iframe for that course\n",
    "    time.sleep(3) # Wait 3 seconds so that it loads\n",
    "    driver.find_element_by_xpath(\"//button[@aria-label='Download']\").click() # find and click the download button\n",
    "    time.sleep(3) # Wait 3 seconds before going to the next step"
   ]
  },
  {
   "cell_type": "markdown",
   "metadata": {},
   "source": [
    "### Wait untill the downloads are finished"
   ]
  },
  {
   "cell_type": "code",
   "execution_count": null,
   "metadata": {},
   "outputs": [],
   "source": [
    "# Waits and checks every second to see if the dowloads are completed\n",
    "\n",
    "seconds = 0\n",
    "wait = True\n",
    "while wait:\n",
    "    time.sleep(1)\n",
    "    wait = False\n",
    "    for fname in os.listdir(download_folder_path):\n",
    "        if fname.endswith('.crdownload'): # If there is still a file with the .crdownload extension this means that the download is still not complete.\n",
    "            wait = True\n",
    "    seconds += 1\n",
    "    if seconds %5 ==0:\n",
    "        print(\"Seconds passed since the start of the downloads \",seconds) # Prints how many seconds passed since the start of download"
   ]
  },
  {
   "cell_type": "markdown",
   "metadata": {},
   "source": [
    "### Unzipping the downloaded folders and renaming them"
   ]
  },
  {
   "cell_type": "code",
   "execution_count": null,
   "metadata": {},
   "outputs": [],
   "source": [
    "downloads = os.listdir(download_folder_path)\n",
    "downloads_zips = [i for i in downloads if \".zip\" in i and \"crd\" not in i] # List of all the downloads names\n",
    "zip_paths = [os.path.join(download_folder_path,i) for i in downloads_zips]\n",
    "the_len = len(zip_paths[0])\n",
    "if not all(len(l) == the_len for l in zip_paths): # Sorts the names in the order they were downlaoded (So that we can then rename the folders)\n",
    "    zip_paths = sorted(zip_paths)\n",
    "    zip_paths = zip_paths[-1:] + zip_paths[:-1] \n",
    "else:\n",
    "    zip_paths = sorted(zip_paths)\n",
    "    \n",
    "    \n",
    "    \n",
    "for i,zip_fold in enumerate(zip_paths):\n",
    "    with ZipFile(zip_fold, 'r') as zipObj:\n",
    "       # Extract all the contents of zip file in current directory\n",
    "       zipObj.extractall(os.path.join(download_folder_path,courses[i])) # Extracting the elements into the folders with the correspondant course name"
   ]
  },
  {
   "cell_type": "markdown",
   "metadata": {},
   "source": [
    "### Removing the .zip files"
   ]
  },
  {
   "cell_type": "code",
   "execution_count": null,
   "metadata": {},
   "outputs": [],
   "source": [
    "for zip_path in zip_paths:\n",
    "    os.remove(zip_path) # After extraction delete the zip files"
   ]
  }
 ],
 "metadata": {
  "kernelspec": {
   "display_name": "Python 3",
   "language": "python",
   "name": "python3"
  },
  "language_info": {
   "codemirror_mode": {
    "name": "ipython",
    "version": 3
   },
   "file_extension": ".py",
   "mimetype": "text/x-python",
   "name": "python",
   "nbconvert_exporter": "python",
   "pygments_lexer": "ipython3",
   "version": "3.8.3"
  }
 },
 "nbformat": 4,
 "nbformat_minor": 4
}
